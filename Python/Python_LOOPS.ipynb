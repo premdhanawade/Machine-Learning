{
  "nbformat": 4,
  "nbformat_minor": 0,
  "metadata": {
    "kernelspec": {
      "display_name": "Python 3",
      "language": "python",
      "name": "python3"
    },
    "language_info": {
      "codemirror_mode": {
        "name": "ipython",
        "version": 3
      },
      "file_extension": ".py",
      "mimetype": "text/x-python",
      "name": "python",
      "nbconvert_exporter": "python",
      "pygments_lexer": "ipython3",
      "version": "3.7.4"
    },
    "colab": {
      "name": "Python_LOOPS",
      "provenance": [],
      "collapsed_sections": [
        "nQN4Ya01lt6F"
      ]
    }
  },
  "cells": [
    {
      "cell_type": "code",
      "metadata": {
        "colab": {
          "base_uri": "https://localhost:8080/"
        },
        "id": "SyZiSXKtlt47",
        "outputId": "b6dc2554-abef-451d-c5d2-1343fe996be4"
      },
      "source": [
        "for i in range(1, 6):\n",
        "    print(i)"
      ],
      "execution_count": 1,
      "outputs": [
        {
          "output_type": "stream",
          "text": [
            "1\n",
            "2\n",
            "3\n",
            "4\n",
            "5\n"
          ],
          "name": "stdout"
        }
      ]
    },
    {
      "cell_type": "code",
      "metadata": {
        "colab": {
          "base_uri": "https://localhost:8080/"
        },
        "id": "828KPnZJlt5L",
        "outputId": "9ab37294-4cc0-4ac9-f972-a20dfc584a38"
      },
      "source": [
        "i = 0\n",
        "while i < 6:\n",
        "    #print(i)\n",
        "    i =  i + 1\n",
        "    print(i)\n",
        "print('Exit loop')"
      ],
      "execution_count": 2,
      "outputs": [
        {
          "output_type": "stream",
          "text": [
            "1\n",
            "2\n",
            "3\n",
            "4\n",
            "5\n",
            "6\n",
            "Exit loop\n"
          ],
          "name": "stdout"
        }
      ]
    },
    {
      "cell_type": "code",
      "metadata": {
        "colab": {
          "base_uri": "https://localhost:8080/"
        },
        "id": "agd0DPM7lt5O",
        "outputId": "b07ce5a7-39b8-4a0d-c680-4f380e872922"
      },
      "source": [
        "i = 1\n",
        "while i < 6:\n",
        "    print(i)\n",
        "    if i == 3:\n",
        "        break\n",
        "    #print(i)\n",
        "    i =  i + 1\n",
        "print(\"Exit due to break\")"
      ],
      "execution_count": 3,
      "outputs": [
        {
          "output_type": "stream",
          "text": [
            "1\n",
            "2\n",
            "3\n",
            "Exit due to break\n"
          ],
          "name": "stdout"
        }
      ]
    },
    {
      "cell_type": "code",
      "metadata": {
        "colab": {
          "base_uri": "https://localhost:8080/"
        },
        "id": "bZoGpj01lt5S",
        "outputId": "8d9a9aee-1048-415a-8725-cbcbed30dc26"
      },
      "source": [
        "i"
      ],
      "execution_count": 4,
      "outputs": [
        {
          "output_type": "execute_result",
          "data": {
            "text/plain": [
              "3"
            ]
          },
          "metadata": {
            "tags": []
          },
          "execution_count": 4
        }
      ]
    },
    {
      "cell_type": "code",
      "metadata": {
        "colab": {
          "base_uri": "https://localhost:8080/"
        },
        "id": "M7DOaM3zlt5U",
        "outputId": "5a809353-0d9f-49d2-95a5-2db83e2dee80"
      },
      "source": [
        "i = 0\n",
        "while i < 6:\n",
        "    i =  i + 1\n",
        "    if i == 3:\n",
        "        continue\n",
        "        #continue\n",
        "    print(i)"
      ],
      "execution_count": 5,
      "outputs": [
        {
          "output_type": "stream",
          "text": [
            "1\n",
            "2\n",
            "4\n",
            "5\n",
            "6\n"
          ],
          "name": "stdout"
        }
      ]
    },
    {
      "cell_type": "code",
      "metadata": {
        "colab": {
          "base_uri": "https://localhost:8080/"
        },
        "id": "37AZDnKAlt5W",
        "outputId": "a26667c4-7618-4cd9-d9d2-ed0c467163ae"
      },
      "source": [
        "i = 1\n",
        "while i < 6:\n",
        "    print(i)\n",
        "    i =  i + 1\n",
        "else:\n",
        "    print(\"i is no longer less than 6\")"
      ],
      "execution_count": 6,
      "outputs": [
        {
          "output_type": "stream",
          "text": [
            "1\n",
            "2\n",
            "3\n",
            "4\n",
            "5\n",
            "i is no longer less than 6\n"
          ],
          "name": "stdout"
        }
      ]
    },
    {
      "cell_type": "code",
      "metadata": {
        "colab": {
          "base_uri": "https://localhost:8080/"
        },
        "id": "-qjb19n9lt5Y",
        "outputId": "da19ad4d-5c60-4ce8-d004-4c7b1785c02f"
      },
      "source": [
        "i = 1\n",
        "while i<=10:\n",
        "    print('Hello')\n",
        "    #print(i)\n",
        "    i = i+1"
      ],
      "execution_count": 7,
      "outputs": [
        {
          "output_type": "stream",
          "text": [
            "Hello\n",
            "Hello\n",
            "Hello\n",
            "Hello\n",
            "Hello\n",
            "Hello\n",
            "Hello\n",
            "Hello\n",
            "Hello\n",
            "Hello\n"
          ],
          "name": "stdout"
        }
      ]
    },
    {
      "cell_type": "code",
      "metadata": {
        "id": "glHuvp6Vlt5a"
      },
      "source": [
        "i = 1\n",
        "while i<5:\n",
        "    pass\n",
        "    i = i+1"
      ],
      "execution_count": 8,
      "outputs": []
    },
    {
      "cell_type": "code",
      "metadata": {
        "colab": {
          "base_uri": "https://localhost:8080/"
        },
        "id": "qc6BVILIlt5c",
        "outputId": "1cb5a1eb-c04f-490b-a654-efb25ae710a5"
      },
      "source": [
        "i"
      ],
      "execution_count": 9,
      "outputs": [
        {
          "output_type": "execute_result",
          "data": {
            "text/plain": [
              "5"
            ]
          },
          "metadata": {
            "tags": []
          },
          "execution_count": 9
        }
      ]
    },
    {
      "cell_type": "code",
      "metadata": {
        "colab": {
          "base_uri": "https://localhost:8080/"
        },
        "id": "WU_fijYrlt5e",
        "outputId": "3ff92a80-c3fd-450f-f77c-9ca32cd857e8"
      },
      "source": [
        "for i in 'apple':\n",
        "    print(i)"
      ],
      "execution_count": 10,
      "outputs": [
        {
          "output_type": "stream",
          "text": [
            "a\n",
            "p\n",
            "p\n",
            "l\n",
            "e\n"
          ],
          "name": "stdout"
        }
      ]
    },
    {
      "cell_type": "code",
      "metadata": {
        "colab": {
          "base_uri": "https://localhost:8080/"
        },
        "id": "xhumLQ7alt5g",
        "outputId": "b79d670c-2d19-45e6-c5b8-2348ce2cb0c0"
      },
      "source": [
        "#for(i = 1; i<10; i++)\n",
        "#range(start,stop,step)\n",
        "for i in range(1,12,2):\n",
        "    print(i)"
      ],
      "execution_count": 11,
      "outputs": [
        {
          "output_type": "stream",
          "text": [
            "1\n",
            "3\n",
            "5\n",
            "7\n",
            "9\n",
            "11\n"
          ],
          "name": "stdout"
        }
      ]
    },
    {
      "cell_type": "code",
      "metadata": {
        "id": "N45SVJ7Olt5i"
      },
      "source": [
        "a= range(10)"
      ],
      "execution_count": 12,
      "outputs": []
    },
    {
      "cell_type": "code",
      "metadata": {
        "colab": {
          "base_uri": "https://localhost:8080/"
        },
        "id": "iVO3tTXMlt5j",
        "outputId": "f5e39259-e66c-49f4-eb36-178ea835f457"
      },
      "source": [
        "print(a)"
      ],
      "execution_count": 13,
      "outputs": [
        {
          "output_type": "stream",
          "text": [
            "range(0, 10)\n"
          ],
          "name": "stdout"
        }
      ]
    },
    {
      "cell_type": "code",
      "metadata": {
        "colab": {
          "base_uri": "https://localhost:8080/"
        },
        "id": "tkVniD18lt5l",
        "outputId": "ce4b03b9-5d22-475a-a121-e6880236e4a3"
      },
      "source": [
        "fruits = [\"apple\", \"banana\", \"cherry\"]\n",
        "for x in fruits:\n",
        "    #print(x)       \n",
        "    print('hello')"
      ],
      "execution_count": 14,
      "outputs": [
        {
          "output_type": "stream",
          "text": [
            "hello\n",
            "hello\n",
            "hello\n"
          ],
          "name": "stdout"
        }
      ]
    },
    {
      "cell_type": "code",
      "metadata": {
        "colab": {
          "base_uri": "https://localhost:8080/"
        },
        "id": "vUdcw-Qmlt5m",
        "outputId": "1392ec23-9990-4011-a710-5341245d2178"
      },
      "source": [
        "l = [1,2,3,3,4,5,5,6,6.,5]\n",
        "l[::2]"
      ],
      "execution_count": 15,
      "outputs": [
        {
          "output_type": "execute_result",
          "data": {
            "text/plain": [
              "[1, 3, 4, 5, 6.0]"
            ]
          },
          "metadata": {
            "tags": []
          },
          "execution_count": 15
        }
      ]
    },
    {
      "cell_type": "code",
      "metadata": {
        "colab": {
          "base_uri": "https://localhost:8080/"
        },
        "id": "mNgxFCTjlt5n",
        "outputId": "5e60885f-517c-4c6b-c1ff-3d78b001f6bb"
      },
      "source": [
        "f = ['apple','banana', 'cherry', 'mango', 'watermelon','kiwi'\n",
        "    ]\n",
        "f[::2]"
      ],
      "execution_count": 16,
      "outputs": [
        {
          "output_type": "execute_result",
          "data": {
            "text/plain": [
              "['apple', 'cherry', 'watermelon']"
            ]
          },
          "metadata": {
            "tags": []
          },
          "execution_count": 16
        }
      ]
    },
    {
      "cell_type": "code",
      "metadata": {
        "colab": {
          "base_uri": "https://localhost:8080/"
        },
        "id": "IezwzLFWlt5p",
        "outputId": "05e8d8a5-857e-4069-9332-96c2de1f9df7"
      },
      "source": [
        "for x in \"banana\":\n",
        "    print(x, end = \"  \")\n",
        "    #print('hello')"
      ],
      "execution_count": 17,
      "outputs": [
        {
          "output_type": "stream",
          "text": [
            "b  a  n  a  n  a  "
          ],
          "name": "stdout"
        }
      ]
    },
    {
      "cell_type": "code",
      "metadata": {
        "colab": {
          "base_uri": "https://localhost:8080/"
        },
        "id": "_Uua4XInlt5r",
        "outputId": "ed16684d-7d52-4e61-af46-18594b260ab9"
      },
      "source": [
        "fruits = [\"apple\", \"banana\", \"cherry\"]\n",
        "for x in fruits:\n",
        "    print(x) \n",
        "    if x == \"banana\":\n",
        "        break\n",
        "    "
      ],
      "execution_count": 18,
      "outputs": [
        {
          "output_type": "stream",
          "text": [
            "apple\n",
            "banana\n"
          ],
          "name": "stdout"
        }
      ]
    },
    {
      "cell_type": "code",
      "metadata": {
        "colab": {
          "base_uri": "https://localhost:8080/"
        },
        "id": "GbahNBf2lt5t",
        "outputId": "36f71c62-a7d3-48ea-d1b5-4c4aa1b5a3de"
      },
      "source": [
        "fruits = [\"apple\", \"banana\", \"cherry\"]\n",
        "for x in fruits:\n",
        "    if x == \"banana\":\n",
        "        break\n",
        "    print(x)"
      ],
      "execution_count": 19,
      "outputs": [
        {
          "output_type": "stream",
          "text": [
            "apple\n"
          ],
          "name": "stdout"
        }
      ]
    },
    {
      "cell_type": "code",
      "metadata": {
        "colab": {
          "base_uri": "https://localhost:8080/"
        },
        "id": "DAP4ZcEzlt5u",
        "outputId": "d0513b25-a1c7-42d5-ebeb-d9582bff7b39"
      },
      "source": [
        "a = range(6)\n",
        "print(a)\n",
        "for i in a:\n",
        "    print(i)"
      ],
      "execution_count": 20,
      "outputs": [
        {
          "output_type": "stream",
          "text": [
            "range(0, 6)\n",
            "0\n",
            "1\n",
            "2\n",
            "3\n",
            "4\n",
            "5\n"
          ],
          "name": "stdout"
        }
      ]
    },
    {
      "cell_type": "code",
      "metadata": {
        "colab": {
          "base_uri": "https://localhost:8080/"
        },
        "id": "mAPQ3OZhlt5w",
        "outputId": "d2e1f7a8-e75c-4637-9f7a-42ccaa6c00d6"
      },
      "source": [
        "fruits = [\"apple\", \"banana\", \"cherry\"]\n",
        "for x in fruits:\n",
        "    if x == \"banana\":\n",
        "        continue\n",
        "    print('Hello')"
      ],
      "execution_count": 21,
      "outputs": [
        {
          "output_type": "stream",
          "text": [
            "Hello\n",
            "Hello\n"
          ],
          "name": "stdout"
        }
      ]
    },
    {
      "cell_type": "code",
      "metadata": {
        "colab": {
          "base_uri": "https://localhost:8080/"
        },
        "id": "2YV14qvClt5x",
        "outputId": "37009219-9884-4821-fa36-2b9303f68f67"
      },
      "source": [
        "for x in range(1,10,2):\n",
        "    print(x)\n"
      ],
      "execution_count": 22,
      "outputs": [
        {
          "output_type": "stream",
          "text": [
            "1\n",
            "3\n",
            "5\n",
            "7\n",
            "9\n"
          ],
          "name": "stdout"
        }
      ]
    },
    {
      "cell_type": "code",
      "metadata": {
        "colab": {
          "base_uri": "https://localhost:8080/"
        },
        "id": "FbStmo_-lt5y",
        "outputId": "87dd9594-b00c-4dab-cd24-e887a0542d25"
      },
      "source": [
        "for x in range(2, 30, 1):\n",
        "    \n",
        "    if x==15:\n",
        "        continue\n",
        "    print(x, end = \"   \")"
      ],
      "execution_count": 23,
      "outputs": [
        {
          "output_type": "stream",
          "text": [
            "2   3   4   5   6   7   8   9   10   11   12   13   14   16   17   18   19   20   21   22   23   24   25   26   27   28   29   "
          ],
          "name": "stdout"
        }
      ]
    },
    {
      "cell_type": "code",
      "metadata": {
        "id": "RXyhiUXIlt50"
      },
      "source": [
        "for x in range(5):\n",
        "    pass"
      ],
      "execution_count": 24,
      "outputs": []
    },
    {
      "cell_type": "code",
      "metadata": {
        "colab": {
          "base_uri": "https://localhost:8080/"
        },
        "id": "uUXoRuMrlt51",
        "outputId": "8b62a5e2-cd51-4f56-a874-f70eb309c5f1"
      },
      "source": [
        "x"
      ],
      "execution_count": 25,
      "outputs": [
        {
          "output_type": "execute_result",
          "data": {
            "text/plain": [
              "4"
            ]
          },
          "metadata": {
            "tags": []
          },
          "execution_count": 25
        }
      ]
    },
    {
      "cell_type": "code",
      "metadata": {
        "colab": {
          "base_uri": "https://localhost:8080/"
        },
        "id": "0ENdZdPdlt52",
        "outputId": "bcfd53ba-048b-42e8-b922-fec10da1b4b0"
      },
      "source": [
        "for x in range(6):\n",
        "    pass\n",
        "else:\n",
        "    print(\"Finally finished!\") "
      ],
      "execution_count": 26,
      "outputs": [
        {
          "output_type": "stream",
          "text": [
            "Finally finished!\n"
          ],
          "name": "stdout"
        }
      ]
    },
    {
      "cell_type": "code",
      "metadata": {
        "colab": {
          "base_uri": "https://localhost:8080/"
        },
        "id": "rB7smgK6lt53",
        "outputId": "a6c2a313-1891-4466-e1d8-d56eecb46670"
      },
      "source": [
        "x"
      ],
      "execution_count": 27,
      "outputs": [
        {
          "output_type": "execute_result",
          "data": {
            "text/plain": [
              "5"
            ]
          },
          "metadata": {
            "tags": []
          },
          "execution_count": 27
        }
      ]
    },
    {
      "cell_type": "code",
      "metadata": {
        "colab": {
          "base_uri": "https://localhost:8080/"
        },
        "id": "OJdRoOPglt55",
        "outputId": "afd9460c-f2c2-48a6-8027-590b664c0b7c"
      },
      "source": [
        "adj = [\"red\", \"big\", \"tasty\"]\n",
        "fruits = [\"apple\", \"banana\", \"cherry\"]\n",
        "for x in adj:\n",
        "    for y in fruits:\n",
        "        print(x, y) "
      ],
      "execution_count": 28,
      "outputs": [
        {
          "output_type": "stream",
          "text": [
            "red apple\n",
            "red banana\n",
            "red cherry\n",
            "big apple\n",
            "big banana\n",
            "big cherry\n",
            "tasty apple\n",
            "tasty banana\n",
            "tasty cherry\n"
          ],
          "name": "stdout"
        }
      ]
    },
    {
      "cell_type": "code",
      "metadata": {
        "colab": {
          "base_uri": "https://localhost:8080/"
        },
        "id": "neo6SoqUlt56",
        "outputId": "9e0cf877-2f81-4ef4-c5e9-c02ed5091efa"
      },
      "source": [
        "# Program to print squares of all numbers present in a list\n",
        "\n",
        "# List of integer numbers\n",
        "numbers = [1, 2, 4, 6, 11, 20]\n",
        "\n",
        "# variable to store the square of each num temporary\n",
        "sq = 0\n",
        "count = 0\n",
        "# iterating over the given list\n",
        "for val in numbers:\n",
        "    # calculating square of each number\n",
        "    sq = val * val\n",
        "    # displaying the squares\n",
        "    print(sq)\n",
        "    # To update list with square values uncomment below lines\n",
        "    #numbers[count] = sq\n",
        "    #count = count +1"
      ],
      "execution_count": 29,
      "outputs": [
        {
          "output_type": "stream",
          "text": [
            "1\n",
            "4\n",
            "16\n",
            "36\n",
            "121\n",
            "400\n"
          ],
          "name": "stdout"
        }
      ]
    },
    {
      "cell_type": "code",
      "metadata": {
        "colab": {
          "base_uri": "https://localhost:8080/"
        },
        "id": "2Vd1PR1Clt57",
        "outputId": "58d8682d-6f29-49a5-f9ae-a2cf0afda251"
      },
      "source": [
        "numbers"
      ],
      "execution_count": 30,
      "outputs": [
        {
          "output_type": "execute_result",
          "data": {
            "text/plain": [
              "[1, 2, 4, 6, 11, 20]"
            ]
          },
          "metadata": {
            "tags": []
          },
          "execution_count": 30
        }
      ]
    },
    {
      "cell_type": "code",
      "metadata": {
        "colab": {
          "base_uri": "https://localhost:8080/"
        },
        "id": "XbfOWD5mlt58",
        "outputId": "f1a5bde3-c460-4476-b380-e907eb7efb46"
      },
      "source": [
        "# Python program to illustrate \n",
        "# Iterating over a list \n",
        "print(\"List Iteration\") \n",
        "l = [\"Python\", \"for\", \"Data Science\"] \n",
        "for i in l: \n",
        "    print(i) \n",
        "       \n",
        "# Iterating over a tuple (immutable) \n",
        "print(\"\\nTuple Iteration\") \n",
        "t = (\"Python\", \"for\", \"Machine Learning\") \n",
        "for i in t: \n",
        "    print(i) \n",
        "       \n",
        "# Iterating over a String \n",
        "print(\"\\nString Iteration\")     \n",
        "s = \"Hello\"\n",
        "for i in s : \n",
        "    print(i, end = \"    \") \n",
        "       \n",
        "# Iterating over dictionary \n",
        "print(\"\\nDictionary Iteration\")    \n",
        "d = dict()  \n",
        "d['xyz'] = 123\n",
        "d['abc'] = 345\n",
        "for i in d : \n",
        "    print(\"%s  %d\" %(i, d[i])) "
      ],
      "execution_count": 31,
      "outputs": [
        {
          "output_type": "stream",
          "text": [
            "List Iteration\n",
            "Python\n",
            "for\n",
            "Data Science\n",
            "\n",
            "Tuple Iteration\n",
            "Python\n",
            "for\n",
            "Machine Learning\n",
            "\n",
            "String Iteration\n",
            "H    e    l    l    o    \n",
            "Dictionary Iteration\n",
            "xyz  123\n",
            "abc  345\n"
          ],
          "name": "stdout"
        }
      ]
    },
    {
      "cell_type": "code",
      "metadata": {
        "id": "JdASc9mRlt5-"
      },
      "source": [
        "# Python program to illustrate  \n",
        "# nested for loops in Python \n",
        "\n",
        "1 \n",
        "2 2 \n",
        "3 3 3 \n",
        "4 4 4 4"
      ],
      "execution_count": null,
      "outputs": []
    },
    {
      "cell_type": "code",
      "metadata": {
        "colab": {
          "base_uri": "https://localhost:8080/"
        },
        "id": "Csxv7PtPlt5_",
        "outputId": "b80e9b50-f389-4ee6-cc31-792ce89602f7"
      },
      "source": [
        "for i in range(1, 5): \n",
        "    for j in range(i): \n",
        "         print(i, end=' ') \n",
        "    print() "
      ],
      "execution_count": 38,
      "outputs": [
        {
          "output_type": "stream",
          "text": [
            "1 \n",
            "2 2 \n",
            "3 3 3 \n",
            "4 4 4 4 \n"
          ],
          "name": "stdout"
        }
      ]
    },
    {
      "cell_type": "code",
      "metadata": {
        "colab": {
          "base_uri": "https://localhost:8080/"
        },
        "id": "lQFmiB1clt6B",
        "outputId": "631311bb-8bc2-458d-a750-d9355eb883f1"
      },
      "source": [
        "# An empty loop \n",
        "for letter in 'HelloAll': \n",
        "    \n",
        "    pass\n",
        "    if letter==\"A\":\n",
        "        #continue\n",
        "        break\n",
        "print ('Last Letter :', letter)\n"
      ],
      "execution_count": 39,
      "outputs": [
        {
          "output_type": "stream",
          "text": [
            "Last Letter : A\n"
          ],
          "name": "stdout"
        }
      ]
    },
    {
      "cell_type": "code",
      "metadata": {
        "colab": {
          "base_uri": "https://localhost:8080/"
        },
        "id": "QFD25vH9lt6C",
        "outputId": "0a74bc59-1ee7-4301-c5cd-bbd6fbf80e8a"
      },
      "source": [
        "# Pringt Squareof all elements in the list\n",
        "num=[2,4,6,8]\n",
        "i=0\n",
        "n=len(num)\n",
        "while i<n:\n",
        "    print(num[i]**2)\n",
        "    i=i+1"
      ],
      "execution_count": 40,
      "outputs": [
        {
          "output_type": "stream",
          "text": [
            "4\n",
            "16\n",
            "36\n",
            "64\n"
          ],
          "name": "stdout"
        }
      ]
    },
    {
      "cell_type": "code",
      "metadata": {
        "colab": {
          "base_uri": "https://localhost:8080/"
        },
        "id": "I5VySzvslt6E",
        "outputId": "0e8eb74b-086c-42f3-8eb5-70011c45ba0d"
      },
      "source": [
        "#use a for loop over a collection\n",
        "Months = [\"Jan\",\"Feb\",\"Mar\",\"April\",\"May\",\"June\"]\n",
        "for m in Months:\n",
        "    print (m)\n",
        "\n",
        "# use the break and continue statements\n",
        "for x in range (10,20):\n",
        "    if (x == 15): break\n",
        "    if (x % 2 == 0) : continue\n",
        "    print(x)"
      ],
      "execution_count": 41,
      "outputs": [
        {
          "output_type": "stream",
          "text": [
            "Jan\n",
            "Feb\n",
            "Mar\n",
            "April\n",
            "May\n",
            "June\n",
            "11\n",
            "13\n"
          ],
          "name": "stdout"
        }
      ]
    },
    {
      "cell_type": "raw",
      "metadata": {
        "id": "nQN4Ya01lt6F"
      },
      "source": [
        "Machine Learning Engineer\n",
        "========================================"
      ]
    },
    {
      "cell_type": "code",
      "metadata": {
        "id": "wdfL2cSglt6G",
        "outputId": "7d39fa52-0feb-4f5c-c958-80b6fad34d13"
      },
      "source": [
        "for i in range(21): \n",
        "    print('=', end='')"
      ],
      "execution_count": null,
      "outputs": [
        {
          "output_type": "stream",
          "text": [
            "====================="
          ],
          "name": "stdout"
        }
      ]
    },
    {
      "cell_type": "code",
      "metadata": {
        "id": "J3OTddUflt6H",
        "outputId": "393ce0ba-b88e-4dd3-f111-73b754c7079b"
      },
      "source": [
        "print('========================================')"
      ],
      "execution_count": null,
      "outputs": [
        {
          "output_type": "stream",
          "text": [
            "========================================\n"
          ],
          "name": "stdout"
        }
      ]
    },
    {
      "cell_type": "code",
      "metadata": {
        "id": "Jp5ub7grlt6J",
        "outputId": "fca5ca9b-c3a2-4e37-f8c3-7a8424cfcca8"
      },
      "source": [
        "print('='*20)"
      ],
      "execution_count": null,
      "outputs": [
        {
          "output_type": "stream",
          "text": [
            "====================\n"
          ],
          "name": "stdout"
        }
      ]
    },
    {
      "cell_type": "code",
      "metadata": {
        "id": "n1A0yS_ult6K",
        "outputId": "10024202-f837-4ee2-a420-bdda535a8be3"
      },
      "source": [
        "print('='+'20')"
      ],
      "execution_count": null,
      "outputs": [
        {
          "output_type": "stream",
          "text": [
            "=20\n"
          ],
          "name": "stdout"
        }
      ]
    },
    {
      "cell_type": "markdown",
      "metadata": {
        "id": "sUEGgN4Xlt6L"
      },
      "source": [
        "Write a Python program to print the following patterns\n",
        "![image.png](attachment:image.png)"
      ]
    },
    {
      "cell_type": "code",
      "metadata": {
        "id": "HAbW2_mqlt6M"
      },
      "source": [
        ""
      ],
      "execution_count": null,
      "outputs": []
    }
  ]
}