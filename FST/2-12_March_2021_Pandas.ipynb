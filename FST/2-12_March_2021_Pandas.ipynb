{
 "cells": [
  {
   "cell_type": "code",
   "execution_count": 1,
   "metadata": {},
   "outputs": [
    {
     "data": {
      "text/html": [
       "<div>\n",
       "<style scoped>\n",
       "    .dataframe tbody tr th:only-of-type {\n",
       "        vertical-align: middle;\n",
       "    }\n",
       "\n",
       "    .dataframe tbody tr th {\n",
       "        vertical-align: top;\n",
       "    }\n",
       "\n",
       "    .dataframe thead th {\n",
       "        text-align: right;\n",
       "    }\n",
       "</style>\n",
       "<table border=\"1\" class=\"dataframe\">\n",
       "  <thead>\n",
       "    <tr style=\"text-align: right;\">\n",
       "      <th></th>\n",
       "      <th>Points</th>\n",
       "      <th>Rank</th>\n",
       "      <th>Team</th>\n",
       "      <th>Year</th>\n",
       "    </tr>\n",
       "  </thead>\n",
       "  <tbody>\n",
       "    <tr>\n",
       "      <th>0</th>\n",
       "      <td>876</td>\n",
       "      <td>1</td>\n",
       "      <td>Riders</td>\n",
       "      <td>2014</td>\n",
       "    </tr>\n",
       "    <tr>\n",
       "      <th>1</th>\n",
       "      <td>789</td>\n",
       "      <td>2</td>\n",
       "      <td>Riders</td>\n",
       "      <td>2015</td>\n",
       "    </tr>\n",
       "    <tr>\n",
       "      <th>2</th>\n",
       "      <td>863</td>\n",
       "      <td>2</td>\n",
       "      <td>Devils</td>\n",
       "      <td>2014</td>\n",
       "    </tr>\n",
       "    <tr>\n",
       "      <th>3</th>\n",
       "      <td>673</td>\n",
       "      <td>3</td>\n",
       "      <td>Devils</td>\n",
       "      <td>2015</td>\n",
       "    </tr>\n",
       "    <tr>\n",
       "      <th>4</th>\n",
       "      <td>741</td>\n",
       "      <td>3</td>\n",
       "      <td>Kings</td>\n",
       "      <td>2014</td>\n",
       "    </tr>\n",
       "    <tr>\n",
       "      <th>5</th>\n",
       "      <td>812</td>\n",
       "      <td>4</td>\n",
       "      <td>Kings</td>\n",
       "      <td>2015</td>\n",
       "    </tr>\n",
       "    <tr>\n",
       "      <th>6</th>\n",
       "      <td>756</td>\n",
       "      <td>1</td>\n",
       "      <td>Kings</td>\n",
       "      <td>2016</td>\n",
       "    </tr>\n",
       "    <tr>\n",
       "      <th>7</th>\n",
       "      <td>788</td>\n",
       "      <td>1</td>\n",
       "      <td>Kings</td>\n",
       "      <td>2017</td>\n",
       "    </tr>\n",
       "    <tr>\n",
       "      <th>8</th>\n",
       "      <td>694</td>\n",
       "      <td>2</td>\n",
       "      <td>Riders</td>\n",
       "      <td>2016</td>\n",
       "    </tr>\n",
       "    <tr>\n",
       "      <th>9</th>\n",
       "      <td>701</td>\n",
       "      <td>4</td>\n",
       "      <td>Royals</td>\n",
       "      <td>2014</td>\n",
       "    </tr>\n",
       "    <tr>\n",
       "      <th>10</th>\n",
       "      <td>804</td>\n",
       "      <td>1</td>\n",
       "      <td>Royals</td>\n",
       "      <td>2015</td>\n",
       "    </tr>\n",
       "    <tr>\n",
       "      <th>11</th>\n",
       "      <td>690</td>\n",
       "      <td>2</td>\n",
       "      <td>Riders</td>\n",
       "      <td>2017</td>\n",
       "    </tr>\n",
       "  </tbody>\n",
       "</table>\n",
       "</div>"
      ],
      "text/plain": [
       "    Points  Rank    Team  Year\n",
       "0      876     1  Riders  2014\n",
       "1      789     2  Riders  2015\n",
       "2      863     2  Devils  2014\n",
       "3      673     3  Devils  2015\n",
       "4      741     3   Kings  2014\n",
       "5      812     4   Kings  2015\n",
       "6      756     1   Kings  2016\n",
       "7      788     1   Kings  2017\n",
       "8      694     2  Riders  2016\n",
       "9      701     4  Royals  2014\n",
       "10     804     1  Royals  2015\n",
       "11     690     2  Riders  2017"
      ]
     },
     "execution_count": 1,
     "metadata": {},
     "output_type": "execute_result"
    }
   ],
   "source": [
    "import pandas as pd\n",
    "import numpy as np\n",
    "df=pd.read_csv(\"D:\\Symbiosis\\Dataset\\Teams.csv\")\n",
    "df"
   ]
  },
  {
   "cell_type": "code",
   "execution_count": 26,
   "metadata": {},
   "outputs": [
    {
     "name": "stdout",
     "output_type": "stream",
     "text": [
      "{'Devils': [2, 3], 'Kings': [4, 5, 6, 7], 'Riders': [0, 1, 8, 11], 'Royals': [9, 10]}\n",
      "    Points  Rank    Team  Year\n",
      "9      701     4  Royals  2014\n",
      "10     804     1  Royals  2015\n",
      "804\n"
     ]
    }
   ],
   "source": [
    "#dataframe.groupby(\"Column name\")\n",
    "\n",
    "teams=df.groupby(\"Team\")\n",
    "\n",
    "#to get the group\n",
    "print(teams.groups)   #dictionary of groups(key=>group name)\n",
    "                       #,value=>[list of rows]\n",
    "\n",
    "#groupby_obj.get_group(\"Group name\")\n",
    "print(teams.get_group(\"Royals\"))\n",
    "print(teams.get_group(\"Royals\")[\"Points\"].max())"
   ]
  },
  {
   "cell_type": "code",
   "execution_count": 10,
   "metadata": {},
   "outputs": [],
   "source": [
    "#1.group by the team & display all teams\n",
    "#2.print all riders teams details\n",
    "#3.print the max point of year 2014\n",
    "#4.print all rank 1 teams\n",
    "#5.print each team highest point\n",
    "#6.print each team avg point\n",
    "\n"
   ]
  },
  {
   "cell_type": "code",
   "execution_count": 36,
   "metadata": {},
   "outputs": [
    {
     "name": "stdout",
     "output_type": "stream",
     "text": [
      "    Points  Rank    Team  Year\n",
      "9      701     4  Royals  2014\n",
      "10     804     1  Royals  2015\n"
     ]
    }
   ],
   "source": [
    "#2.print all riders teams details\n",
    "print(teams.get_group(\"Royals\"))"
   ]
  },
  {
   "cell_type": "code",
   "execution_count": 35,
   "metadata": {},
   "outputs": [
    {
     "name": "stdout",
     "output_type": "stream",
     "text": [
      "876\n"
     ]
    }
   ],
   "source": [
    "#3.print the max point of year 2014\n",
    "year=df.groupby(\"Year\")\n",
    "print(year.get_group(2014)[\"Points\"].max())\n"
   ]
  },
  {
   "cell_type": "code",
   "execution_count": 34,
   "metadata": {},
   "outputs": [
    {
     "name": "stdout",
     "output_type": "stream",
     "text": [
      "    Points  Rank    Team  Year\n",
      "0      876     1  Riders  2014\n",
      "6      756     1   Kings  2016\n",
      "7      788     1   Kings  2017\n",
      "10     804     1  Royals  2015\n"
     ]
    }
   ],
   "source": [
    "#4.print all rank 1 teams\n",
    "rank=df.groupby(\"Rank\")\n",
    "print(rank.get_group(1))"
   ]
  },
  {
   "cell_type": "code",
   "execution_count": 33,
   "metadata": {},
   "outputs": [
    {
     "name": "stdout",
     "output_type": "stream",
     "text": [
      "Team\n",
      "Devils    863\n",
      "Kings     812\n",
      "Riders    876\n",
      "Royals    804\n",
      "Name: Points, dtype: int64\n"
     ]
    }
   ],
   "source": [
    "#5.print each team highest point\n",
    "print(teams[\"Points\"].max())"
   ]
  },
  {
   "cell_type": "code",
   "execution_count": 32,
   "metadata": {},
   "outputs": [
    {
     "name": "stdout",
     "output_type": "stream",
     "text": [
      "Team\n",
      "Devils    768.00\n",
      "Kings     774.25\n",
      "Riders    762.25\n",
      "Royals    752.50\n",
      "Name: Points, dtype: float64\n"
     ]
    }
   ],
   "source": [
    "#6.print each team avg point\n",
    "print(teams[\"Points\"].mean())"
   ]
  },
  {
   "cell_type": "code",
   "execution_count": null,
   "metadata": {},
   "outputs": [],
   "source": [
    "import pandas as pd\n",
    "n=int(input(\"how many student add\"))\n",
    "roll=[]\n",
    "name=[]\n",
    "marks=[]\n",
    "for i in range(n):\n",
    "    rl=input(\"enter the roll number:\")\n",
    "    nm=input(\"enter the name\")\n",
    "    mk=input(\"enter the marks:\")\n",
    "    roll.append(rl)\n",
    "    name.append(nm)\n",
    "    marks.append(mk)\n",
    "Student={\"roll\":roll,\"name\":name,\"marks\":marks}\n",
    "stud=pd.DataFrame(Student)\n",
    "print(stud)"
   ]
  },
  {
   "cell_type": "code",
   "execution_count": 2,
   "metadata": {},
   "outputs": [
    {
     "name": "stdout",
     "output_type": "stream",
     "text": [
      "   roll    name  marks\n",
      "0     1     ram     10\n",
      "1     2    sham     20\n",
      "2     3   karan     25\n",
      "3     4   vijay     35\n",
      "4     5  sachin     45\n"
     ]
    }
   ],
   "source": [
    "import pandas as pd\n",
    "Student={\"roll\":[1,2,3,4,5],\"name\":[\"ram\",\"sham\",\"karan\",\"vijay\",\"sachin\"],\"marks\":[10,20,25,35,45]}\n",
    "stud=pd.DataFrame(Student)\n",
    "print(stud)"
   ]
  },
  {
   "cell_type": "code",
   "execution_count": 20,
   "metadata": {},
   "outputs": [
    {
     "name": "stdout",
     "output_type": "stream",
     "text": [
      "enter your choice:1\n",
      "   roll    name  marks\n",
      "0     1     ram     10\n",
      "1     3   karan     25\n",
      "2     4   vijay     35\n",
      "3     5  sachin     45\n",
      "4     6  pravin     20\n",
      "   roll    name  marks\n",
      "0     1     ram     10\n",
      "2     3   karan     25\n",
      "3     4   vijay     35\n",
      "4     5  sachin     45\n"
     ]
    }
   ],
   "source": [
    "ch=int(input(\"enter your choice:\"))\n",
    "if(ch==1):\n",
    "       print(stud.append({\"roll\":6 ,\"name\":\"pravin\" ,\"marks\":20},ignore_index=True))\n",
    "elif (ch==2):\n",
    "       print(stud.drop([1],inplace=True))\n",
    "print(stud)\n",
    "\n"
   ]
  },
  {
   "cell_type": "code",
   "execution_count": 17,
   "metadata": {},
   "outputs": [
    {
     "data": {
      "text/html": [
       "<div>\n",
       "<style scoped>\n",
       "    .dataframe tbody tr th:only-of-type {\n",
       "        vertical-align: middle;\n",
       "    }\n",
       "\n",
       "    .dataframe tbody tr th {\n",
       "        vertical-align: top;\n",
       "    }\n",
       "\n",
       "    .dataframe thead th {\n",
       "        text-align: right;\n",
       "    }\n",
       "</style>\n",
       "<table border=\"1\" class=\"dataframe\">\n",
       "  <thead>\n",
       "    <tr style=\"text-align: right;\">\n",
       "      <th></th>\n",
       "      <th>roll</th>\n",
       "      <th>name</th>\n",
       "      <th>marks</th>\n",
       "    </tr>\n",
       "  </thead>\n",
       "  <tbody>\n",
       "    <tr>\n",
       "      <th>0</th>\n",
       "      <td>1</td>\n",
       "      <td>ram</td>\n",
       "      <td>10</td>\n",
       "    </tr>\n",
       "    <tr>\n",
       "      <th>2</th>\n",
       "      <td>3</td>\n",
       "      <td>karan</td>\n",
       "      <td>25</td>\n",
       "    </tr>\n",
       "    <tr>\n",
       "      <th>3</th>\n",
       "      <td>4</td>\n",
       "      <td>vijay</td>\n",
       "      <td>35</td>\n",
       "    </tr>\n",
       "    <tr>\n",
       "      <th>4</th>\n",
       "      <td>5</td>\n",
       "      <td>sachin</td>\n",
       "      <td>45</td>\n",
       "    </tr>\n",
       "  </tbody>\n",
       "</table>\n",
       "</div>"
      ],
      "text/plain": [
       "   roll    name  marks\n",
       "0     1     ram     10\n",
       "2     3   karan     25\n",
       "3     4   vijay     35\n",
       "4     5  sachin     45"
      ]
     },
     "execution_count": 17,
     "metadata": {},
     "output_type": "execute_result"
    }
   ],
   "source": []
  },
  {
   "cell_type": "code",
   "execution_count": null,
   "metadata": {},
   "outputs": [],
   "source": []
  }
 ],
 "metadata": {
  "kernelspec": {
   "display_name": "Python 3",
   "language": "python",
   "name": "python3"
  },
  "language_info": {
   "codemirror_mode": {
    "name": "ipython",
    "version": 3
   },
   "file_extension": ".py",
   "mimetype": "text/x-python",
   "name": "python",
   "nbconvert_exporter": "python",
   "pygments_lexer": "ipython3",
   "version": "3.8.5"
  }
 },
 "nbformat": 4,
 "nbformat_minor": 4
}
