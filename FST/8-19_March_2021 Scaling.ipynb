{
 "cells": [
  {
   "cell_type": "code",
   "execution_count": 1,
   "metadata": {},
   "outputs": [],
   "source": [
    "#Feature Scaling\n",
    "#Recalling (min-max normalization)"
   ]
  },
  {
   "cell_type": "code",
   "execution_count": 2,
   "metadata": {},
   "outputs": [],
   "source": [
    "import pandas as pd \n",
    "import numpy as np"
   ]
  },
  {
   "cell_type": "code",
   "execution_count": 3,
   "metadata": {},
   "outputs": [
    {
     "name": "stdout",
     "output_type": "stream",
     "text": [
      "[0.         0.47619048 1.         0.21428571]\n"
     ]
    }
   ],
   "source": [
    "data=np.array([1.4,3.4,5.6,2.3])\n",
    "data\n",
    "dmin=np.min(data)\n",
    "dmax=np.max(data)\n",
    "\n",
    "# x-xmin/xmax-xmin formula\n",
    "print((data-dmin)/(dmax-dmin))\n",
    "\n"
   ]
  },
  {
   "cell_type": "code",
   "execution_count": 4,
   "metadata": {},
   "outputs": [
    {
     "name": "stdout",
     "output_type": "stream",
     "text": [
      "[[0.        ]\n",
      " [0.47619048]\n",
      " [1.        ]\n",
      " [0.21428571]]\n"
     ]
    }
   ],
   "source": [
    "data=data.reshape(-1,1)\n",
    "from sklearn.preprocessing import MinMaxScaler\n",
    "m=MinMaxScaler()\n",
    "m.fit(data)\n",
    "print(m.transform(data))"
   ]
  },
  {
   "cell_type": "code",
   "execution_count": 5,
   "metadata": {},
   "outputs": [
    {
     "data": {
      "text/plain": [
       "array([4.6       , 6.5047619 , 8.6       , 5.45714286])"
      ]
     },
     "execution_count": 5,
     "metadata": {},
     "output_type": "execute_result"
    }
   ],
   "source": [
    "data=np.array([1.4,3.4,5.6,2.3])\n",
    "#[a,b]\n",
    "a=4.6\n",
    "b=8.6\n",
    "#a+(data-dmin)*(b-a)/(dmax-dmin)\n",
    "(a+(data-dmin)*(b-a)/(dmax-dmin))"
   ]
  },
  {
   "cell_type": "code",
   "execution_count": 6,
   "metadata": {},
   "outputs": [
    {
     "data": {
      "text/plain": [
       "array([[4.6       ],\n",
       "       [6.5047619 ],\n",
       "       [8.6       ],\n",
       "       [5.45714286]])"
      ]
     },
     "execution_count": 6,
     "metadata": {},
     "output_type": "execute_result"
    }
   ],
   "source": [
    "data=data.reshape(-1,1)\n",
    "from sklearn.preprocessing import MinMaxScaler\n",
    "m=MinMaxScaler(feature_range=(a,b))\n",
    "m.fit(data)\n",
    "m.transform(data)"
   ]
  },
  {
   "cell_type": "code",
   "execution_count": null,
   "metadata": {},
   "outputs": [],
   "source": []
  },
  {
   "cell_type": "code",
   "execution_count": 8,
   "metadata": {},
   "outputs": [
    {
     "data": {
      "image/png": "[encoded data removed]",
      "text/plain": [
       "<Figure size 432x288 with 1 Axes>"
      ]
     },
     "metadata": {
      "needs_background": "light"
     },
     "output_type": "display_data"
    },
    {
     "data": {
      "image/png": "[encoded data removed]",
      "text/plain": [
       "<Figure size 432x288 with 1 Axes>"
      ]
     },
     "metadata": {
      "needs_background": "light"
     },
     "output_type": "display_data"
    }
   ],
   "source": [
    "import pandas as pd \n",
    "import numpy as np\n",
    "import seaborn as sns\n",
    "import matplotlib.pyplot as plt\n",
    "from sklearn.preprocessing import MinMaxScaler\n",
    "df=sns.load_dataset(\"iris\")\n",
    "df=df.drop(columns=[\"species\"])\n",
    "sns.boxplot(data=df)\n",
    "plt.show()\n",
    "m=MinMaxScaler()\n",
    "m.fit(df)\n",
    "scale_df=m.transform(df)\n",
    "sns.boxplot(data=scale_df)\n",
    "plt.show()\n",
    "scale_df=m.fit_transform(df)"
   ]
  },
  {
   "cell_type": "code",
   "execution_count": null,
   "metadata": {},
   "outputs": [],
   "source": []
  }
 ],
 "metadata": {
  "kernelspec": {
   "display_name": "Python 3",
   "language": "python",
   "name": "python3"
  },
  "language_info": {
   "codemirror_mode": {
    "name": "ipython",
    "version": 3
   },
   "file_extension": ".py",
   "mimetype": "text/x-python",
   "name": "python",
   "nbconvert_exporter": "python",
   "pygments_lexer": "ipython3",
   "version": "3.8.5"
  }
 },
 "nbformat": 4,
 "nbformat_minor": 4
}
